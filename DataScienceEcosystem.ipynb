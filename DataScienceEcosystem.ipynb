{
 "cells": [
  {
   "cell_type": "markdown",
   "id": "211b0b23-2553-4934-8c0a-6fc06ba82b2c",
   "metadata": {},
   "source": [
    "# Data Science Tools and Ecosystem"
   ]
  },
  {
   "cell_type": "markdown",
   "id": "356c0388-d357-448a-86ac-930b86844e96",
   "metadata": {},
   "source": [
    "## Author\n",
    "Okuich Abella"
   ]
  },
  {
   "cell_type": "markdown",
   "id": "68834a11-4a1c-41bb-8986-874588baaf4c",
   "metadata": {},
   "source": [
    "In this notebook, Data Science Tools and Ecosystem are summarized."
   ]
  },
  {
   "cell_type": "markdown",
   "id": "209db9ca-1b82-459a-ab9f-463d3cd2d68e",
   "metadata": {},
   "source": [
    "### objectives\n",
    "<ul><li>Popular Data Science Languages</li></ul>\n",
    "<ul><li>Popular Data Science Libraries</li></ul>\n",
    "<ul><li>Data Science Tools</li></ul>\n",
    "<ul><li>Arithmetic</li></ul>\n",
    "<ul><li>Conversions</li></ul>"
   ]
  },
  {
   "cell_type": "markdown",
   "id": "bb4f87f9-fb05-4385-bebd-375a6ca85398",
   "metadata": {},
   "source": [
    "Some of the popular languages that Data Scientists use are:"
   ]
  },
  {
   "cell_type": "code",
   "execution_count": 1,
   "id": "e9c7c023-dc16-4aff-a1d9-4d97f730129c",
   "metadata": {},
   "outputs": [
    {
     "name": "stdout",
     "output_type": "stream",
     "text": [
      "['Java', 'Julia', 'Python', 'R', 'SQL']\n"
     ]
    }
   ],
   "source": [
    "Data_science_language_list = [\"Python\", \"R\", \"Julia\", \"SQL\", \"Java\"]\n",
    "Data_science_language_list.sort()\n",
    "print(Data_science_language_list)"
   ]
  },
  {
   "cell_type": "markdown",
   "id": "ef356a57-53ef-4cb8-a012-8e1274d0b58b",
   "metadata": {},
   "source": [
    "Some of the commonly used libraries used by Data Scientists include:"
   ]
  },
  {
   "cell_type": "code",
   "execution_count": 3,
   "id": "3f5be870-2db3-4b00-bac4-df57befdbce4",
   "metadata": {},
   "outputs": [
    {
     "name": "stdout",
     "output_type": "stream",
     "text": [
      "['NumPy', 'keras', 'matplotlib', 'pandas', 'pytorch', 'scikit-learn', 'scipy', 'seaborn', 'statsmodel', 'tensorflow']\n"
     ]
    }
   ],
   "source": [
    "Data_science_libraries = [\"NumPy\", \"pandas\", \"matplotlib\", \"scikit-learn\", \"seaborn\", \"tensorflow\", \"pytorch\", \"keras\", \"scipy\", \"statsmodel\"]\n",
    "Data_science_libraries.sort()\n",
    "print(Data_science_libraries)"
   ]
  },
  {
   "cell_type": "markdown",
   "id": "662f4d8e-3671-4f97-ae91-9ef51222b66c",
   "metadata": {},
   "source": [
    "Data Science Tools\n",
    "|:---------------|\n",
    "|__Jupyter Notebook__|\n",
    "|__RStudio__|\n",
    "|__Pycharm__|"
   ]
  },
  {
   "cell_type": "markdown",
   "id": "2c6bb65a-1958-41a3-83c0-0c83356c3dfa",
   "metadata": {},
   "source": [
    "### Below are a few examples of evaluating arithmetic expressions in Python"
   ]
  },
  {
   "cell_type": "code",
   "execution_count": 4,
   "id": "fc4988ab-0b43-4b85-aa4b-1ac429a486e7",
   "metadata": {},
   "outputs": [
    {
     "data": {
      "text/plain": [
       "2"
      ]
     },
     "execution_count": 4,
     "metadata": {},
     "output_type": "execute_result"
    }
   ],
   "source": [
    "1 + 1"
   ]
  },
  {
   "cell_type": "code",
   "execution_count": 5,
   "id": "e4761e70-8a8e-4266-b1be-39472f2aefef",
   "metadata": {},
   "outputs": [
    {
     "data": {
      "text/plain": [
       "1"
      ]
     },
     "execution_count": 5,
     "metadata": {},
     "output_type": "execute_result"
    }
   ],
   "source": [
    "2-1"
   ]
  },
  {
   "cell_type": "code",
   "execution_count": 6,
   "id": "3295557b-34ca-4220-a4c1-2212540947fe",
   "metadata": {},
   "outputs": [
    {
     "data": {
      "text/plain": [
       "18"
      ]
     },
     "execution_count": 6,
     "metadata": {},
     "output_type": "execute_result"
    }
   ],
   "source": [
    "3*6"
   ]
  },
  {
   "cell_type": "code",
   "execution_count": 7,
   "id": "41f3c4c4-313c-4299-8719-473d0c32fb31",
   "metadata": {},
   "outputs": [
    {
     "data": {
      "text/plain": [
       "5.0"
      ]
     },
     "execution_count": 7,
     "metadata": {},
     "output_type": "execute_result"
    }
   ],
   "source": [
    "25/5"
   ]
  },
  {
   "cell_type": "markdown",
   "id": "38e4432a-7665-453a-90d6-ef8f44d6cf89",
   "metadata": {},
   "source": [
    " This a simple arithmetic expression to mutiply then add integers"
   ]
  },
  {
   "cell_type": "code",
   "execution_count": 8,
   "id": "75e2925c-1fe6-41fa-81a2-2841b6992e39",
   "metadata": {},
   "outputs": [
    {
     "data": {
      "text/plain": [
       "17"
      ]
     },
     "execution_count": 8,
     "metadata": {},
     "output_type": "execute_result"
    }
   ],
   "source": [
    "(3*4)+5"
   ]
  },
  {
   "cell_type": "markdown",
   "id": "c09a45ac-450a-4d85-8012-9e4f2ed950d7",
   "metadata": {},
   "source": [
    " This will convert 200 minutes to hours by diving by 60"
   ]
  },
  {
   "cell_type": "code",
   "execution_count": 21,
   "id": "78324b6a-ef98-49ab-9e2b-8dbacb6fe977",
   "metadata": {},
   "outputs": [
    {
     "name": "stdout",
     "output_type": "stream",
     "text": [
      "3\n"
     ]
    }
   ],
   "source": [
    "from math import floor\n",
    "minutes = 200\n",
    "hours_and_minutes = (floor(minutes/60))\n",
    "print(hours_and_minutes)"
   ]
  },
  {
   "cell_type": "code",
   "execution_count": null,
   "id": "50606626-56c3-4641-8947-902b69ad5d5f",
   "metadata": {},
   "outputs": [],
   "source": []
  }
 ],
 "metadata": {
  "kernelspec": {
   "display_name": "Python 3 (ipykernel)",
   "language": "python",
   "name": "python3"
  },
  "language_info": {
   "codemirror_mode": {
    "name": "ipython",
    "version": 3
   },
   "file_extension": ".py",
   "mimetype": "text/x-python",
   "name": "python",
   "nbconvert_exporter": "python",
   "pygments_lexer": "ipython3",
   "version": "3.13.5"
  }
 },
 "nbformat": 4,
 "nbformat_minor": 5
}
